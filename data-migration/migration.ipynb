{
 "cells": [
  {
   "cell_type": "code",
   "execution_count": null,
   "id": "9e131431",
   "metadata": {},
   "outputs": [],
   "source": [
    "import os\n",
    "import sqlite3\n",
    "import pandas as pd\n",
    "from sqlalchemy import create_engine"
   ]
  },
  {
   "cell_type": "code",
   "execution_count": null,
   "id": "7e4ce81d",
   "metadata": {},
   "outputs": [],
   "source": [
    "# MySQL 연결 설정\n",
    "MYSQL_USER = \"\"\n",
    "MYSQL_PASSWORD = \"\"\n",
    "MYSQL_HOST = \"127.0.0.1\"\n",
    "MYSQL_PORT = \"3306\"\n",
    "MYSQL_DB = \"\"\n",
    "\n",
    "# SQLAlchemy 엔진 생성\n",
    "engine = create_engine(f\"mysql+pymysql://{MYSQL_USER}:{MYSQL_PASSWORD}@{MYSQL_HOST}:{MYSQL_PORT}/{MYSQL_DB}\")"
   ]
  },
  {
   "cell_type": "code",
   "execution_count": null,
   "id": "209b2993",
   "metadata": {},
   "outputs": [],
   "source": [
    "# SQLite DB 디렉토리\n",
    "now_dir = os.getcwd()\n",
    "db_dir = os.path.join(now_dir, \"data\")\n",
    "\n",
    "for db_file in os.listdir(db_dir):\n",
    "    # SQLite DB 연결\n",
    "    sqlite_path = os.path.join(db_dir, db_file)\n",
    "    conn = sqlite3.connect(sqlite_path)\n",
    "    cur = conn.cursor()\n",
    "\n",
    "    # 테이블 목록 조회\n",
    "    cur.execute(\"SELECT name FROM sqlite_master WHERE type='table';\")\n",
    "    tables = cur.fetchall()\n",
    "\n",
    "    for table in tables:\n",
    "        table_name = table[0]\n",
    "        df = pd.read_sql(f\"SELECT * FROM {table_name}\", conn)\n",
    "\n",
    "        # MySQL에 INSERT (존재 시 append, 기존 테이블 drop 안 함)\n",
    "        df.to_sql(table_name, con=engine, if_exists='append', index=False)\n",
    "        print(f\"Migrate {table_name}'s Table\")\n",
    "\n",
    "    conn.close()"
   ]
  }
 ],
 "metadata": {
  "kernelspec": {
   "display_name": "ml_midas",
   "language": "python",
   "name": "python3"
  },
  "language_info": {
   "codemirror_mode": {
    "name": "ipython",
    "version": 3
   },
   "file_extension": ".py",
   "mimetype": "text/x-python",
   "name": "python",
   "nbconvert_exporter": "python",
   "pygments_lexer": "ipython3",
   "version": "3.10.13"
  }
 },
 "nbformat": 4,
 "nbformat_minor": 5
}
